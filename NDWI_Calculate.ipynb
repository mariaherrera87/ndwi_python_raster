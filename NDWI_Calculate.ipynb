{
 "metadata": {
  "name": "",
  "signature": "sha256:a4d3cf9b8d8e0c1eb5642a46a62874bdaa460982ab8e6b4193fef8a35d40166f"
 },
 "nbformat": 3,
 "nbformat_minor": 0,
 "worksheets": [
  {
   "cells": [
    {
     "cell_type": "code",
     "collapsed": false,
     "input": [
      "# import modules\n",
      "from osgeo import gdal\n",
      "from osgeo.gdalconst import GA_ReadOnly, GDT_Float32\n",
      "import numpy as np\n",
      "\n",
      "outputpath = \"/home/user/Desktop/geoscripting/python3/ndwi_ll100.tif\"\n",
      "# open file and print info about the file\n",
      "# the \u00a8../\u00a8 refers to the parent directory of my working directory\n",
      "fn_band4 = '/home/user/Desktop/geoscripting/python3/LC81980242014260LGN00_sr_band4.tif'\n",
      "fn_band5 = '/home/user/Desktop/geoscripting/python3/LC81980242014260LGN00_sr_band5.tif'\n",
      "sourceband4 = gdal.Open(fn_band4, GA_ReadOnly)\n",
      "sourceband5 = gdal.Open(fn_band5, GA_ReadOnly)"
     ],
     "language": "python",
     "metadata": {},
     "outputs": [],
     "prompt_number": 9
    },
    {
     "cell_type": "code",
     "collapsed": false,
     "input": [
      "# Read data into an array\n",
      "band4Arr = sourceband4.ReadAsArray(0,0,sourceband4.RasterXSize, sourceband4.RasterYSize)\n",
      "band5Arr = sourceband5.ReadAsArray(0,0,sourceband5.RasterXSize, sourceband5.RasterYSize)\n",
      "print type(band4Arr)\n",
      "\n",
      "# set the data type\n",
      "band4Arr=band4Arr.astype(np.float32)\n",
      "band5Arr=band5Arr.astype(np.float32)\n",
      "\n",
      "# Derive the NDVI\n",
      "mask = np.greater(band4Arr+band5Arr,0)\n",
      "\n",
      "# set np.errstate to avoid warning of invalid values (i.e. NaN values) in the divide \n",
      "with np.errstate(invalid='ignore'):\n",
      "    ndwi = np.choose(mask,(-99,(band4Arr-band5Arr)/(band4Arr+band5Arr)))\n",
      "print \"NDWI min and max values\", ndwi.min(), ndwi.max()\n",
      "# Check the real minimum value\n",
      "print ndwi[ndwi>-99].min()"
     ],
     "language": "python",
     "metadata": {},
     "outputs": [
      {
       "output_type": "stream",
       "stream": "stdout",
       "text": [
        "<type 'numpy.ndarray'>\n",
        "NDWI min and max values"
       ]
      },
      {
       "output_type": "stream",
       "stream": "stdout",
       "text": [
        " -99.0 "
       ]
      },
      {
       "output_type": "stream",
       "stream": "stdout",
       "text": [
        "21.3333\n",
        "-2.36481"
       ]
      },
      {
       "output_type": "stream",
       "stream": "stdout",
       "text": [
        "\n"
       ]
      }
     ],
     "prompt_number": 24
    },
    {
     "cell_type": "code",
     "collapsed": false,
     "input": [
      "# Write the result to disk\n",
      "driver = gdal.GetDriverByName('GTiff')\n",
      "outDataSet=driver.Create('/home/user/Desktop/geoscripting/python3/ndwi.tif', sourceband4.RasterXSize, sourceband4.RasterYSize, 1, GDT_Float32)\n",
      "outBand = outDataSet.GetRasterBand(1)\n",
      "outBand.WriteArray(ndwi,0,0)\n",
      "outBand.SetNoDataValue(-99)\n",
      "\n",
      "# set the projection and extent information of the dataset\n",
      "outDataSet.SetProjection(sourceband4.GetProjection())\n",
      "outDataSet.SetGeoTransform(sourceband4.GetGeoTransform())\n",
      "\n",
      "\n",
      "# Finally let's save it... or like in the OGR example flush it\n",
      "outBand.FlushCache()\n",
      "outDataSet.FlushCache()"
     ],
     "language": "python",
     "metadata": {},
     "outputs": [],
     "prompt_number": 9
    },
    {
     "cell_type": "code",
     "collapsed": false,
     "input": [
      "!gdalinfo /home/user/Desktop/geoscripting/python3/ndwi.tif"
     ],
     "language": "python",
     "metadata": {},
     "outputs": [
      {
       "output_type": "stream",
       "stream": "stdout",
       "text": [
        "Driver: GTiff/GeoTIFF\r\n",
        "Files: /home/user/Desktop/geoscripting/python3/ndwi.tif\r\n",
        "Size is 7791, 7911\r\n",
        "Coordinate System is:\r\n",
        "PROJCS[\"WGS 84 / UTM zone 31N\",\r\n",
        "    GEOGCS[\"WGS 84\",\r\n",
        "        DATUM[\"WGS_1984\",\r\n",
        "            SPHEROID[\"WGS 84\",6378137,298.257223563,\r\n",
        "                AUTHORITY[\"EPSG\",\"7030\"]],\r\n",
        "            AUTHORITY[\"EPSG\",\"6326\"]],\r\n",
        "        PRIMEM[\"Greenwich\",0],\r\n",
        "        UNIT[\"degree\",0.0174532925199433],\r\n",
        "        AUTHORITY[\"EPSG\",\"4326\"]],\r\n",
        "    PROJECTION[\"Transverse_Mercator\"],\r\n",
        "    PARAMETER[\"latitude_of_origin\",0],\r\n",
        "    PARAMETER[\"central_meridian\",3],\r\n",
        "    PARAMETER[\"scale_factor\",0.9996],\r\n",
        "    PARAMETER[\"false_easting\",500000],\r\n",
        "    PARAMETER[\"false_northing\",0],\r\n",
        "    UNIT[\"metre\",1,\r\n",
        "        AUTHORITY[\"EPSG\",\"9001\"]],\r\n",
        "    AUTHORITY[\"EPSG\",\"32631\"]]\r\n",
        "Origin = (529185.000000000000000,5847015.000000000000000)\r\n",
        "Pixel Size = (30.000000000000000,-30.000000000000000)\r\n",
        "Metadata:\r\n",
        "  AREA_OR_POINT=Area\r\n",
        "Image Structure Metadata:\r\n",
        "  INTERLEAVE=BAND\r\n"
       ]
      },
      {
       "output_type": "stream",
       "stream": "stdout",
       "text": [
        "Corner Coordinates:\r\n"
       ]
      },
      {
       "output_type": "stream",
       "stream": "stdout",
       "text": [
        "Upper Left  (  529185.000, 5847015.000) (  3d25'57.39\"E, 52d46'19.83\"N)\r\n",
        "Lower Left  (  529185.000, 5609685.000) (  3d24'45.80\"E, 50d38'17.88\"N)\r\n",
        "Upper Right (  762915.000, 5847015.000) (  6d53'32.41\"E, 52d42'32.58\"N)\r\n",
        "Lower Right (  762915.000, 5609685.000) (  6d42'50.08\"E, 50d34'47.26\"N)\r\n",
        "Center      (  646050.000, 5728350.000) (  5d 6'46.27\"E, 51d41'13.53\"N)\r\n",
        "Band 1 Block=7791x1 Type=Float32, ColorInterp=Gray\r\n",
        "  NoData Value=-99\r\n"
       ]
      }
     ],
     "prompt_number": 11
    },
    {
     "cell_type": "code",
     "collapsed": false,
     "input": [
      "!gdalwarp -t_srs \"EPSG:4326\" /home/user/Desktop/geoscripting/python3/ndwi.tif /home/user/Desktop/geoscripting/python3/ndwi_ll.tif"
     ],
     "language": "python",
     "metadata": {},
     "outputs": [
      {
       "output_type": "stream",
       "stream": "stdout",
       "text": [
        "Creating output file that is 9790P x 6168L.\r\n",
        "Processing input file /home/user/Desktop/geoscripting/python3/ndwi.tif.\r\n",
        "Using internal nodata values (e.g. -99) for image /home/user/Desktop/geoscripting/python3/ndwi.tif.\r\n",
        "Copying nodata values from source /home/user/Desktop/geoscripting/python3/ndwi.tif to destination /home/user/Desktop/geoscripting/python3/ndwi_ll.tif.\r\n"
       ]
      },
      {
       "output_type": "stream",
       "stream": "stdout",
       "text": [
        "0."
       ]
      },
      {
       "output_type": "stream",
       "stream": "stdout",
       "text": [
        "."
       ]
      },
      {
       "output_type": "stream",
       "stream": "stdout",
       "text": [
        "."
       ]
      },
      {
       "output_type": "stream",
       "stream": "stdout",
       "text": [
        "10"
       ]
      },
      {
       "output_type": "stream",
       "stream": "stdout",
       "text": [
        "."
       ]
      },
      {
       "output_type": "stream",
       "stream": "stdout",
       "text": [
        ".."
       ]
      },
      {
       "output_type": "stream",
       "stream": "stdout",
       "text": [
        "20"
       ]
      },
      {
       "output_type": "stream",
       "stream": "stdout",
       "text": [
        "."
       ]
      },
      {
       "output_type": "stream",
       "stream": "stdout",
       "text": [
        "."
       ]
      },
      {
       "output_type": "stream",
       "stream": "stdout",
       "text": [
        "."
       ]
      },
      {
       "output_type": "stream",
       "stream": "stdout",
       "text": [
        "30."
       ]
      },
      {
       "output_type": "stream",
       "stream": "stdout",
       "text": [
        "."
       ]
      },
      {
       "output_type": "stream",
       "stream": "stdout",
       "text": [
        "."
       ]
      },
      {
       "output_type": "stream",
       "stream": "stdout",
       "text": [
        "40."
       ]
      },
      {
       "output_type": "stream",
       "stream": "stdout",
       "text": [
        "."
       ]
      },
      {
       "output_type": "stream",
       "stream": "stdout",
       "text": [
        "."
       ]
      },
      {
       "output_type": "stream",
       "stream": "stdout",
       "text": [
        "50"
       ]
      },
      {
       "output_type": "stream",
       "stream": "stdout",
       "text": [
        "."
       ]
      },
      {
       "output_type": "stream",
       "stream": "stdout",
       "text": [
        ".."
       ]
      },
      {
       "output_type": "stream",
       "stream": "stdout",
       "text": [
        "60"
       ]
      },
      {
       "output_type": "stream",
       "stream": "stdout",
       "text": [
        "."
       ]
      },
      {
       "output_type": "stream",
       "stream": "stdout",
       "text": [
        "."
       ]
      },
      {
       "output_type": "stream",
       "stream": "stdout",
       "text": [
        "."
       ]
      },
      {
       "output_type": "stream",
       "stream": "stdout",
       "text": [
        "70."
       ]
      },
      {
       "output_type": "stream",
       "stream": "stdout",
       "text": [
        "."
       ]
      },
      {
       "output_type": "stream",
       "stream": "stdout",
       "text": [
        "."
       ]
      },
      {
       "output_type": "stream",
       "stream": "stdout",
       "text": [
        "80"
       ]
      },
      {
       "output_type": "stream",
       "stream": "stdout",
       "text": [
        "."
       ]
      },
      {
       "output_type": "stream",
       "stream": "stdout",
       "text": [
        "."
       ]
      },
      {
       "output_type": "stream",
       "stream": "stdout",
       "text": [
        "."
       ]
      },
      {
       "output_type": "stream",
       "stream": "stdout",
       "text": [
        "90."
       ]
      },
      {
       "output_type": "stream",
       "stream": "stdout",
       "text": [
        "."
       ]
      },
      {
       "output_type": "stream",
       "stream": "stdout",
       "text": [
        "."
       ]
      },
      {
       "output_type": "stream",
       "stream": "stdout",
       "text": [
        "100 - done.\r\n"
       ]
      }
     ],
     "prompt_number": 12
    },
    {
     "cell_type": "code",
     "collapsed": false,
     "input": [
      "!gdalinfo /home/user/Desktop/geoscripting/python3/ndwi_ll.tif"
     ],
     "language": "python",
     "metadata": {},
     "outputs": [
      {
       "output_type": "stream",
       "stream": "stdout",
       "text": [
        "Driver: GTiff/GeoTIFF\r\n",
        "Files: /home/user/Desktop/geoscripting/python3/ndwi_ll.tif\r\n",
        "Size is 9790, 6168\r\n",
        "Coordinate System is:\r\n",
        "GEOGCS[\"WGS 84\",\r\n",
        "    DATUM[\"WGS_1984\",\r\n",
        "        SPHEROID[\"WGS 84\",6378137,298.257223563,\r\n",
        "            AUTHORITY[\"EPSG\",\"7030\"]],\r\n",
        "        AUTHORITY[\"EPSG\",\"6326\"]],\r\n",
        "    PRIMEM[\"Greenwich\",0],\r\n",
        "    UNIT[\"degree\",0.0174532925199433],\r\n",
        "    AUTHORITY[\"EPSG\",\"4326\"]]\r\n",
        "Origin = (3.412720989343660,52.772174160489875)\r\n",
        "Pixel Size = (0.000355418665319,-0.000355418665319)\r\n",
        "Metadata:\r\n",
        "  AREA_OR_POINT=Area\r\n",
        "Image Structure Metadata:\r\n",
        "  INTERLEAVE=BAND\r\n",
        "Corner Coordinates:\r\n",
        "Upper Left  (   3.4127210,  52.7721742) (  3d24'45.80\"E, 52d46'19.83\"N)\r\n",
        "Lower Left  (   3.4127210,  50.5799518) (  3d24'45.80\"E, 50d34'47.83\"N)\r\n",
        "Upper Right (   6.8922697,  52.7721742) (  6d53'32.17\"E, 52d46'19.83\"N)\r\n",
        "Lower Right (   6.8922697,  50.5799518) (  6d53'32.17\"E, 50d34'47.83\"N)\r\n",
        "Center      (   5.1524954,  51.6760630) (  5d 9' 8.98\"E, 51d40'33.83\"N)\r\n",
        "Band 1 Block=9790x1 Type=Float32, ColorInterp=Gray\r\n",
        "  NoData Value=-99\r\n"
       ]
      }
     ],
     "prompt_number": 13
    },
    {
     "cell_type": "code",
     "collapsed": false,
     "input": [
      "# notebook magic to select the plotting method\n",
      "# change to inline to plot within this notebook\n",
      "#%matplotlib inline \n",
      "%matplotlib inline\n",
      "from osgeo import gdal\n",
      "import matplotlib.pyplot as plt"
     ],
     "language": "python",
     "metadata": {},
     "outputs": [],
     "prompt_number": 14
    },
    {
     "cell_type": "code",
     "collapsed": false,
     "input": [
      "# we using gdalwarp in terminal to change the resolution of the ndwi picture(in latitude and longitude)\n",
      "!cd /home/user/Desktop/geoscripting/python3/\n",
      "!gdalwarp -tr 0.001 0.001 -r near ndwi_ll.tif ndwi_ll100.tif"
     ],
     "language": "python",
     "metadata": {},
     "outputs": [
      {
       "output_type": "stream",
       "stream": "stdout",
       "text": [
        "Creating output file that is 3480P x 2192L.\r\n",
        "Processing input file ndwi_ll.tif.\r\n",
        "Using internal nodata values (e.g. -99) for image ndwi_ll.tif.\r\n",
        "Copying nodata values from source ndwi_ll.tif to destination ndwi_ll100.tif.\r\n"
       ]
      },
      {
       "output_type": "stream",
       "stream": "stdout",
       "text": [
        "0...10."
       ]
      },
      {
       "output_type": "stream",
       "stream": "stdout",
       "text": [
        "..20.."
       ]
      },
      {
       "output_type": "stream",
       "stream": "stdout",
       "text": [
        ".30..."
       ]
      },
      {
       "output_type": "stream",
       "stream": "stdout",
       "text": [
        "40...50"
       ]
      },
      {
       "output_type": "stream",
       "stream": "stdout",
       "text": [
        "...60."
       ]
      },
      {
       "output_type": "stream",
       "stream": "stdout",
       "text": [
        "..70."
       ]
      },
      {
       "output_type": "stream",
       "stream": "stdout",
       "text": [
        "."
       ]
      },
      {
       "output_type": "stream",
       "stream": "stdout",
       "text": [
        "."
       ]
      },
      {
       "output_type": "stream",
       "stream": "stdout",
       "text": [
        "80..."
       ]
      },
      {
       "output_type": "stream",
       "stream": "stdout",
       "text": [
        "90...100 - done.\r\n"
       ]
      }
     ],
     "prompt_number": 13
    },
    {
     "cell_type": "code",
     "collapsed": false,
     "input": [
      "# notebook magic to select the plotting method\n",
      "# change to inline to plot within this notebook\n",
      "#%matplotlib inline \n",
      "%matplotlib inline\n",
      "from osgeo import gdal\n",
      "import matplotlib.pyplot as plt\n",
      "\n",
      "# Open image\n",
      "dsll = gdal.Open(outputpath)\n",
      "\n",
      "# Read raster data\n",
      "ndwi = dsll.ReadAsArray(0, 0, dsll.RasterXSize, dsll.RasterYSize)\n",
      "\n",
      "# Now plot the raster data using gist_earth palette\n",
      "plt.imshow(ndwi, interpolation='nearest', vmin=0, cmap=plt.cm.gist_earth)\n",
      "plt.show()\n",
      "\n",
      "dsll = None"
     ],
     "language": "python",
     "metadata": {},
     "outputs": [
      {
       "metadata": {},
       "output_type": "display_data",
       "png": "[encoded data removed]",
       "text": [
        "<matplotlib.figure.Figure at 0xb4d48b2c>"
       ]
      }
     ],
     "prompt_number": 14
    },
    {
     "cell_type": "code",
     "collapsed": false,
     "input": [
      "# the picture cannot display in linux"
     ],
     "language": "python",
     "metadata": {},
     "outputs": [],
     "prompt_number": 26
    },
    {
     "cell_type": "code",
     "collapsed": false,
     "input": [],
     "language": "python",
     "metadata": {},
     "outputs": []
    }
   ],
   "metadata": {}
  }
 ]
}